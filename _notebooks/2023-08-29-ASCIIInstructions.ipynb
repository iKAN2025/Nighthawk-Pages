{
 "cells": [
  {
   "cell_type": "markdown",
   "metadata": {},
   "source": [
    "---\n",
    "title: ASCII Exercise Instructions\n",
    "courses: {'compsci': {'week': 1}}\n",
    "type: tangibles\n",
    "layout: post\n",
    "---"
   ]
  },
  {
   "cell_type": "markdown",
   "metadata": {},
   "source": [
    "Provide exercise instructions or tutorials in an ASCII format. Use ASCII art or characters creatively to display exercise demonstrations or animated instructions, offering a unique and engaging way to guide users through workouts."
   ]
  },
  {
   "cell_type": "code",
   "execution_count": 6,
   "metadata": {
    "vscode": {
     "languageId": "html"
    }
   },
   "outputs": [
    {
     "data": {
      "text/html": [
       "<html>\n",
       "<head>\n",
       "  <title>Exercise Instructions (ASCII)</title>\n",
       "  <style>\n",
       "    /* CSS styles for the ASCII art */\n",
       "    pre {\n",
       "      font-family: monospace;\n",
       "      white-space: pre;\n",
       "      font-size: 16px;\n",
       "    }\n",
       "  </style>\n",
       "</head>\n",
       "<body>\n",
       "  <h1>Exercise Instructions (ASCII)</h1>\n",
       "\n",
       "  <pre>\n",
       "  _______  _        _______           _______  _______  _______ \n",
       "(  ____ \\( \\      (  ___  )|\\     /|(  ____ \\(  ____ \\(  ___  )\n",
       "| (    \\/| (      | (   ) || )   ( || (    \\/| (    \\/| (   ) |\n",
       "| |      | |      | (___) || |   | || |      | (__    | (___) |\n",
       "| | ____ | |      |  ___  || |   | || | ____ |  __)   |  ___  |\n",
       "| | \\_  )| |      | (   ) || |   | || | \\_  )| (      | (   ) |\n",
       "| (___) || (____/\\| )   ( || (___) || (___) || (____/\\| )   ( |\n",
       "(_______)(_______/|/     \\|(_______)(_______)(_______/|/     \\|\n",
       "  </pre>\n",
       "\n",
       "  <p>\n",
       "    Welcome to your Exercise Tracker! Follow these steps to get started:\n",
       "    <br>\n",
       "    1. Check the checkboxes next to each completed exercise.\n",
       "    <br>\n",
       "    2. Ensure to mark your rest days.\n",
       "    <br>\n",
       "    3. Indicate if your warm-up and cool-down are completed.\n",
       "    <br>\n",
       "    4. Watch your progress using the tracker's representation.\n",
       "  </p>\n",
       "\n",
       "  <pre>\n",
       "  _____                 _     _             \n",
       " |  __ \\               | |   (_)            \n",
       " | |__) |__ _ __   __ _| |__  _ _ __   __ _ \n",
       " |  ___/ _ \\ '_ \\ / _` | '_ \\| | '_ \\ / _` |\n",
       " | |  |  __/ | | | (_| | | | | | | | | (_| |\n",
       " |_|   \\___|_| |_|\\__,_|_| |_|_|_| |_|\\__, |\n",
       "                                        __/ |\n",
       "                                       |___/ \n",
       "  </pre>\n",
       "\n",
       "  <p>\n",
       "    Make sure to track your exercises regularly for a healthy lifestyle! \n",
       "    Remember, consistency is the key to progress and fitness goals.\n",
       "  </p>\n",
       "</body>\n",
       "</html>\n"
      ],
      "text/plain": [
       "<IPython.core.display.HTML object>"
      ]
     },
     "metadata": {},
     "output_type": "display_data"
    }
   ],
   "source": [
    "%%html\n",
    "<html>\n",
    "<head>\n",
    "  <title>Exercise Instructions (ASCII)</title>\n",
    "  <style>\n",
    "    /* CSS styles for the ASCII art */\n",
    "    pre {\n",
    "      font-family: monospace;\n",
    "      white-space: pre;\n",
    "      font-size: 16px;\n",
    "    }\n",
    "  </style>\n",
    "</head>\n",
    "<body>\n",
    "  <h1>Exercise Instructions (ASCII)</h1>\n",
    "\n",
    "  <pre>\n",
    "  _______  _        _______           _______  _______  _______ \n",
    "(  ____ \\( \\      (  ___  )|\\     /|(  ____ \\(  ____ \\(  ___  )\n",
    "| (    \\/| (      | (   ) || )   ( || (    \\/| (    \\/| (   ) |\n",
    "| |      | |      | (___) || |   | || |      | (__    | (___) |\n",
    "| | ____ | |      |  ___  || |   | || | ____ |  __)   |  ___  |\n",
    "| | \\_  )| |      | (   ) || |   | || | \\_  )| (      | (   ) |\n",
    "| (___) || (____/\\| )   ( || (___) || (___) || (____/\\| )   ( |\n",
    "(_______)(_______/|/     \\|(_______)(_______)(_______/|/     \\|\n",
    "  </pre>\n",
    "\n",
    "  <p>\n",
    "    Welcome to your Exercise Tracker! Follow these steps to get started:\n",
    "    <br>\n",
    "    1. Check the checkboxes next to each completed exercise.\n",
    "    <br>\n",
    "    2. Ensure to mark your rest days.\n",
    "    <br>\n",
    "    3. Indicate if your warm-up and cool-down are completed.\n",
    "    <br>\n",
    "    4. Watch your progress using the tracker's representation.\n",
    "  </p>\n",
    "\n",
    "  <pre>\n",
    "  _____                 _     _             \n",
    " |  __ \\               | |   (_)            \n",
    " | |__) |__ _ __   __ _| |__  _ _ __   __ _ \n",
    " |  ___/ _ \\ '_ \\ / _` | '_ \\| | '_ \\ / _` |\n",
    " | |  |  __/ | | | (_| | | | | | | | | (_| |\n",
    " |_|   \\___|_| |_|\\__,_|_| |_|_|_| |_|\\__, |\n",
    "                                        __/ |\n",
    "                                       |___/ \n",
    "  </pre>\n",
    "\n",
    "  <p>\n",
    "    Make sure to track your exercises regularly for a healthy lifestyle! \n",
    "    Remember, consistency is the key to progress and fitness goals.\n",
    "  </p>\n",
    "</body>\n",
    "</html>\n"
   ]
  }
 ],
 "metadata": {
  "kernelspec": {
   "display_name": "Python 3",
   "language": "python",
   "name": "python3"
  },
  "language_info": {
   "codemirror_mode": {
    "name": "ipython",
    "version": 3
   },
   "file_extension": ".py",
   "mimetype": "text/x-python",
   "name": "python",
   "nbconvert_exporter": "python",
   "pygments_lexer": "ipython3",
   "version": "3.11.4"
  }
 },
 "nbformat": 4,
 "nbformat_minor": 2
}
