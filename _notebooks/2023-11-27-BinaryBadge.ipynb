{
 "cells": [
  {
   "cell_type": "markdown",
   "metadata": {},
   "source": [
    "---\n",
    "title: Binary Badge\n",
    "courses: {'compsci': {'week': 1}}\n",
    "type: tangibles\n",
    "layout: default\n",
    "---"
   ]
  },
  {
   "cell_type": "markdown",
   "metadata": {},
   "source": [
    "# Binary Badges...EXPLORATION/IDEATION\n",
    "Binary achievement badges serve as a creative and unique way to represent milestones or accomplishments within an application.  Utilizing binary in badges offers an opportunity for educational engagement. Users may become curious about binary representations and may seek to understand how binary numbers work, leading to informal learning. Implementing unique binary-based badges can set an application apart from others, establishing a distinct identity and branding. It can become a distinguishing feature that users associate with the application. This also uses AND OR Logic Gats\n",
    "\n"
   ]
  },
  {
   "cell_type": "markdown",
   "metadata": {},
   "source": [
    "# Binary Badge Flowchart\n",
    "![life.png](/Nighthawk-Pages/images/binarylogic.png)\n"
   ]
  },
  {
   "cell_type": "code",
   "execution_count": 3,
   "metadata": {
    "vscode": {
     "languageId": "html"
    }
   },
   "outputs": [
    {
     "data": {
      "text/html": [
       "<html>\n",
       "<head>\n",
       "  <title>Achievement Tracker</title>\n",
       "</head>\n",
       "<body>\n",
       "  <h1>Achievement Tracker</h1>\n",
       "\n",
       "  <label>\n",
       "    Completed Exercise:\n",
       "    <input type=\"checkbox\" id=\"completedExercise\" onchange=\"updateAchievementBadge()\">\n",
       "  </label>\n",
       "  <br>\n",
       "  <label>\n",
       "    Rest Day:\n",
       "    <input type=\"checkbox\" id=\"restDay\" onchange=\"updateAchievementBadge()\">\n",
       "  </label>\n",
       "  <br>\n",
       "  <label>\n",
       "    Favorite Exercise:\n",
       "    <input type=\"checkbox\" id=\"favoriteExercise\" onchange=\"updateAchievementBadge()\">\n",
       "  </label>\n",
       "\n",
       "  <div id=\"achievementContainer\"></div>\n",
       "\n",
       "  <script>\n",
       "    function updateAchievementBadge() {\n",
       "      const completedExercise = document.getElementById('completedExercise').checked;\n",
       "      const restDay = document.getElementById('restDay').checked;\n",
       "      const favoriteExercise = document.getElementById('favoriteExercise').checked;\n",
       "\n",
       "      const allAchievementsUnlocked = completedExercise && restDay && favoriteExercise;\n",
       "      const anyAchievementUnlocked = completedExercise || restDay || favoriteExercise;\n",
       "\n",
       "      const generatedBinaryPattern = generateBinaryPattern(allAchievementsUnlocked, anyAchievementUnlocked);\n",
       "      displayAchievementBadge(generatedBinaryPattern);\n",
       "    }\n",
       "\n",
       "    function generateBinaryPattern(allAchievementsUnlocked, anyAchievementUnlocked) {\n",
       "      let binaryPattern = '';\n",
       "\n",
       "      if (allAchievementsUnlocked) {\n",
       "        binaryPattern = '111'; // Replace with appropriate binary representation\n",
       "      } else if (anyAchievementUnlocked) {\n",
       "        binaryPattern = '100'; // Replace with appropriate binary representation\n",
       "      } else {\n",
       "        binaryPattern = '000'; // Replace with appropriate binary representation\n",
       "      }\n",
       "\n",
       "      return binaryPattern;\n",
       "    }\n",
       "\n",
       "    function displayAchievementBadge(binaryPattern) {\n",
       "      const badgeContainer = document.getElementById('achievementContainer');\n",
       "      badgeContainer.innerHTML = `<p>Generated Binary Pattern: ${binaryPattern}</p>`;\n",
       "      // Add code to display the achievement badge based on the binary pattern\n",
       "    }\n",
       "  </script>\n",
       "</body>\n",
       "</html>\n"
      ],
      "text/plain": [
       "<IPython.core.display.HTML object>"
      ]
     },
     "metadata": {},
     "output_type": "display_data"
    }
   ],
   "source": [
    "%%html\n",
    "<html>\n",
    "<head>\n",
    "  <title>Achievement Tracker</title>\n",
    "</head>\n",
    "<body>\n",
    "  <h1>Achievement Tracker</h1>\n",
    "\n",
    "  <label>\n",
    "    Completed Exercise:\n",
    "    <input type=\"checkbox\" id=\"completedExercise\" onchange=\"updateAchievementBadge()\">\n",
    "  </label>\n",
    "  <br>\n",
    "  <label>\n",
    "    Rest Day:\n",
    "    <input type=\"checkbox\" id=\"restDay\" onchange=\"updateAchievementBadge()\">\n",
    "  </label>\n",
    "  <br>\n",
    "  <label>\n",
    "    Favorite Exercise:\n",
    "    <input type=\"checkbox\" id=\"favoriteExercise\" onchange=\"updateAchievementBadge()\">\n",
    "  </label>\n",
    "\n",
    "  <div id=\"achievementContainer\"></div>\n",
    "\n",
    "  <script>\n",
    "    function updateAchievementBadge() {\n",
    "      const completedExercise = document.getElementById('completedExercise').checked;\n",
    "      const restDay = document.getElementById('restDay').checked;\n",
    "      const favoriteExercise = document.getElementById('favoriteExercise').checked;\n",
    "\n",
    "      const allAchievementsUnlocked = completedExercise && restDay && favoriteExercise;\n",
    "      const anyAchievementUnlocked = completedExercise || restDay || favoriteExercise;\n",
    "\n",
    "      const generatedBinaryPattern = generateBinaryPattern(allAchievementsUnlocked, anyAchievementUnlocked);\n",
    "      displayAchievementBadge(generatedBinaryPattern);\n",
    "    }\n",
    "\n",
    "    function generateBinaryPattern(allAchievementsUnlocked, anyAchievementUnlocked) {\n",
    "      let binaryPattern = '';\n",
    "\n",
    "      if (allAchievementsUnlocked) {\n",
    "        binaryPattern = '111'; \n",
    "      } else if (anyAchievementUnlocked) {\n",
    "        binaryPattern = '100'; \n",
    "      } else {\n",
    "        binaryPattern = '000'; \n",
    "      }\n",
    "\n",
    "      return binaryPattern;\n",
    "    }\n",
    "\n",
    "    function displayAchievementBadge(binaryPattern) {\n",
    "      const badgeContainer = document.getElementById('achievementContainer');\n",
    "      badgeContainer.innerHTML = `<p>Generated Binary Pattern: ${binaryPattern}</p>`;\n",
    "      // Add code to display the achievement badge based on the binary pattern\n",
    "    }\n",
    "  </script>\n",
    "</body>\n",
    "</html>\n"
   ]
  }
 ],
 "metadata": {
  "kernelspec": {
   "display_name": "Python 3",
   "language": "python",
   "name": "python3"
  },
  "language_info": {
   "codemirror_mode": {
    "name": "ipython",
    "version": 3
   },
   "file_extension": ".py",
   "mimetype": "text/x-python",
   "name": "python",
   "nbconvert_exporter": "python",
   "pygments_lexer": "ipython3",
   "version": "3.11.4"
  }
 },
 "nbformat": 4,
 "nbformat_minor": 2
}
