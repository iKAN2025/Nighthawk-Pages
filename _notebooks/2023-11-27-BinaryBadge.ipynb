{
 "cells": [
  {
   "cell_type": "markdown",
   "metadata": {},
   "source": [
    "---\n",
    "title: Binary Badge\n",
    "courses: {'compsci': {'week': 1}}\n",
    "type: tangibles\n",
    "layout: default\n",
    "---"
   ]
  },
  {
   "cell_type": "markdown",
   "metadata": {},
   "source": [
    "# Binary Badges...EXPLORATION/IDEATION\n",
    "Binary achievement badges serve as a creative and unique way to represent milestones or accomplishments within an application.  Utilizing binary in badges offers an opportunity for educational engagement. Users may become curious about binary representations and may seek to understand how binary numbers work, leading to informal learning. Implementing unique binary-based badges can set an application apart from others, establishing a distinct identity and branding. It can become a distinguishing feature that users associate with the application.\n",
    "\n"
   ]
  },
  {
   "cell_type": "markdown",
   "metadata": {},
   "source": [
    "# Binary Badge Flowchart\n",
    "\n",
    "![life.png](/Nighthawk-Pages/images/lifeis.png)"
   ]
  },
  {
   "cell_type": "code",
   "execution_count": 1,
   "metadata": {
    "vscode": {
     "languageId": "html"
    }
   },
   "outputs": [
    {
     "data": {
      "text/html": [
       "<html>\n",
       "<head>\n",
       "  <title>Exercise Tracker with Binary Achievement Badges</title>\n",
       "  <style>\n",
       "    /* CSS for styling purposes for SCSS  */\n",
       "    .badge {\n",
       "      display: inline-block;\n",
       "      width: 50px;\n",
       "      height: 50px;\n",
       "      border: 1px solid #000;\n",
       "      margin: 5px;\n",
       "      text-align: center;\n",
       "      line-height: 50px;\n",
       "      font-weight: bold;\n",
       "      font-family: Arial, sans-serif;\n",
       "    }\n",
       "  </style>\n",
       "</head>\n",
       "<body>\n",
       "  <h1>Exercise Tracker with Binary Achievement Badges</h1>\n",
       "\n",
       "  <div>\n",
       "    <label for=\"completedExercise\">Completed Exercise:</label>\n",
       "    <input type=\"checkbox\" id=\"completedExercise\" onchange=\"updateBadges()\">\n",
       "  </div>\n",
       "\n",
       "  <!-- Other checkboxes for different achievements -->\n",
       "  <!-- Add more checkboxes for different achievements -->\n",
       "\n",
       "  <div class=\"badges\">\n",
       "    <h2>Achievement Badges</h2>\n",
       "    <div id=\"badgesContainer\"></div>\n",
       "  </div>\n",
       "\n",
       "  <script>\n",
       "    // Function to update badges based on achievements\n",
       "    function updateBadges() {\n",
       "      const completedExerciseCheckbox = document.getElementById('completedExercise');\n",
       "      // Get other achievement checkboxes\n",
       "\n",
       "      const badgesContainer = document.getElementById('badgesContainer');\n",
       "\n",
       "      let badgesHTML = '';\n",
       "\n",
       "      // Check if specific achievements are unlocked and add corresponding badges\n",
       "      if (completedExerciseCheckbox.checked) {\n",
       "        const binaryBadge1 = generateBinaryBadge('10101'); // Replace '10101' with a specific binary pattern\n",
       "        badgesHTML += binaryBadge1;\n",
       "      }\n",
       "\n",
       "      // Add more conditions to check for other achievements and generate corresponding badges\n",
       "\n",
       "      badgesContainer.innerHTML = badgesHTML;\n",
       "    }\n",
       "\n",
       "    // Function to generate binary badges\n",
       "    function generateBinaryBadge(binaryPattern) {\n",
       "      return `<div class=\"badge\">${binaryPattern}</div>`;\n",
       "    }\n",
       "\n",
       "    // Initial update when the page loads\n",
       "    updateBadges();\n",
       "  </script>\n",
       "</body>\n",
       "</html>\n"
      ],
      "text/plain": [
       "<IPython.core.display.HTML object>"
      ]
     },
     "metadata": {},
     "output_type": "display_data"
    }
   ],
   "source": [
    "%%html\n",
    "<html>\n",
    "<head>\n",
    "  <title>Exercise Tracker with Binary Achievement Badges</title>\n",
    "  <style>\n",
    "    /* CSS for styling purposes for SCSS  */\n",
    "    .badge {\n",
    "      display: inline-block;\n",
    "      width: 50px;\n",
    "      height: 50px;\n",
    "      border: 1px solid #000;\n",
    "      margin: 5px;\n",
    "      text-align: center;\n",
    "      line-height: 50px;\n",
    "      font-weight: bold;\n",
    "      font-family: Arial, sans-serif;\n",
    "    }\n",
    "  </style>\n",
    "</head>\n",
    "<body>\n",
    "  <h1>Exercise Tracker with Binary Achievement Badges</h1>\n",
    "\n",
    "  <div>\n",
    "    <label for=\"completedExercise\">Completed Exercise:</label>\n",
    "    <input type=\"checkbox\" id=\"completedExercise\" onchange=\"updateBadges()\">\n",
    "  </div>\n",
    "\n",
    "  <!-- Other checkboxes for different achievements -->\n",
    "  <!-- Add more checkboxes for different achievements -->\n",
    "\n",
    "  <div class=\"badges\">\n",
    "    <h2>Achievement Badges</h2>\n",
    "    <div id=\"badgesContainer\"></div>\n",
    "  </div>\n",
    "\n",
    "  <script>\n",
    "    // Function to update badges based on achievements\n",
    "    function updateBadges() {\n",
    "      const completedExerciseCheckbox = document.getElementById('completedExercise');\n",
    "      // Get other achievement checkboxes\n",
    "\n",
    "      const badgesContainer = document.getElementById('badgesContainer');\n",
    "\n",
    "      let badgesHTML = '';\n",
    "\n",
    "      // Check if specific achievements are unlocked and add corresponding badges\n",
    "      if (completedExerciseCheckbox.checked) {\n",
    "        const binaryBadge1 = generateBinaryBadge('10101'); // Replace '10101' with a specific binary pattern\n",
    "        badgesHTML += binaryBadge1;\n",
    "      }\n",
    "\n",
    "      // Add more conditions to check for other achievements and generate corresponding badges\n",
    "\n",
    "      badgesContainer.innerHTML = badgesHTML;\n",
    "    }\n",
    "\n",
    "    // Function to generate binary badges\n",
    "    function generateBinaryBadge(binaryPattern) {\n",
    "      return `<div class=\"badge\">${binaryPattern}</div>`;\n",
    "    }\n",
    "\n",
    "    // Initial update when the page loads\n",
    "    updateBadges();\n",
    "  </script>\n",
    "</body>\n",
    "</html>\n"
   ]
  }
 ],
 "metadata": {
  "kernelspec": {
   "display_name": "Python 3",
   "language": "python",
   "name": "python3"
  },
  "language_info": {
   "codemirror_mode": {
    "name": "ipython",
    "version": 3
   },
   "file_extension": ".py",
   "mimetype": "text/x-python",
   "name": "python",
   "nbconvert_exporter": "python",
   "pygments_lexer": "ipython3",
   "version": "3.11.4"
  }
 },
 "nbformat": 4,
 "nbformat_minor": 2
}
