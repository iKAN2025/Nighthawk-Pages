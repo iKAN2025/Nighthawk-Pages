{
 "cells": [
  {
   "cell_type": "markdown",
   "metadata": {},
   "source": [
    "---\n",
    "title:  Other Ideas for Binary Features\n",
    "courses: {'compsci': {'week': 1}}\n",
    "type: tangibles\n",
    "layout: default\n",
    "---"
   ]
  },
  {
   "cell_type": "markdown",
   "metadata": {},
   "source": [
    "# Binary Password Hashing\n",
    "\n",
    "I noticed the passwords were hashed when stored in the backend, so I became curious about binary hashing. \n",
    "\n",
    "Steps in Binary Password Hashing:\n",
    "\n",
    "Input: The user provides a password.\n",
    "Hashing: The password is processed through a cryptographic hash function.\n",
    "Binary Output: The result is a binary string (a series of 0s and 1s) that represents the hashed password.\n",
    "\n",
    "A cryptographic hash function, such as SHA-256 or MD5, takes as input a set of binary data (typically as bytes) and gives output that is hopefully unique for each set of possible inputs. We use cryptographic hashing.\n",
    "\n",
    "\n",
    "# Binary Reminder System:\n",
    "\n",
    "We may implement a reminder system using a binary countdown. For instance, we can represent the time left until the next workout session using a binary countdown clock, where each bit represents a unit of time (hours, minutes, or seconds)."
   ]
  }
 ],
 "metadata": {
  "language_info": {
   "name": "python"
  }
 },
 "nbformat": 4,
 "nbformat_minor": 2
}
