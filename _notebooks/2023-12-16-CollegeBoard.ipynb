{
 "cells": [
  {
   "cell_type": "markdown",
   "metadata": {},
   "source": [
    "---\n",
    "layout: base\n",
    "title: Collegeboard Reflection\n",
    "courses: {compsci: {week: 4}}\n",
    "type: tangibles\n",
    "---"
   ]
  },
  {
   "cell_type": "markdown",
   "metadata": {},
   "source": []
  },
  {
   "cell_type": "markdown",
   "metadata": {},
   "source": [
    "# Reflection on CSP Collegeboard Exam Questions\n",
    "\n",
    "![score.png](/Nighthawk-Pages/images/score.png)\n",
    "During my recent CSP Collegeboard Exam, I encountered several questions that challenged my understanding and analytical skills. I stumbled on certain questions, leading to incorrect answers. Reviewing these mistakes is essential for my growth and improvement in understanding the subject matter. I got a 61/67. I had a much easier time with this exam thn my last one. Thanks to the team teaching, I actually learned vocabulary I needed that I lacked last tri (i missed a lot of the questions with vocab last trimester).\n",
    "\n",
    "## File Size Distribution (Circle Graph):\n",
    "\n",
    "![q1.png](/Nighthawk-Pages/images/q1.png)\n",
    "- **Incorrect Answer:** Chose option A (\"Over 75% of the files stored are 1 MB in size or less\").\n",
    "- **Explanation:**My interpretation of the circle graph was flawed, leading to the miscalculation that files up to 1 MB constituted over 75%, while it actually comprised 66%. I limited myself too much on these options. \n",
    "- **Personal Reflection:** I realize the significance of accurately interpreting data representations like graphs. Improving my graph interpretation skills will be pivotal for future assessments.\n",
    "\n",
    "My interpretation of the circle graph was flawed, leading to the miscalculation that files up to 1 MB constituted over 75%, while it actually comprised 66%. I realized the significance of accurately interpreting data representations like graphs. Improving my graph interpretation skills will be pivotal for future assessments. \n",
    "\n",
    "\n",
    "## Certificate Authority's Role:\n",
    "\n",
    "![q2.png](/Nighthawk-Pages/images/q2.png)\n",
    "\n",
    "- **Incorrect Answer:** Chose option A (\"A certificate authority certifies the safety of a particular Web site so that users know that it does not contain any viruses\").\n",
    "- **Explanation:** I misunderstood the role of a certificate authority, assuming it directly ensures website safety rather than focusing on authentication and encryption. I forgot about certifcate authority from the previous team teaching. \n",
    "- **Personal Reflection:** Strengthening my understanding of cybersecurity concepts, especially regarding the functions of certificate authorities, is crucial for more accurate responses. I will have to review the Internet concept of Collegeboard.\n",
    "\n",
    "\n",
    "Strengthening my understanding of cybersecurity concepts, especially regarding the functions of certificate authorities, is crucial for more accurate responses. Misunderstanding the role of a certificate authority led to an incorrect assumption about its responsibilities.\n",
    "\n",
    "## Minimum Bits Required for Binary Sequences:\n",
    "\n",
    "![q3.png](/Nighthawk-Pages/images/q3.png)\n",
    "- **Incorrect Answer:** Chose option A (\"5\").\n",
    "- **Explanation:** Underestimated the necessary number of bits, limiting the representation to 32 staff members instead of the required 100.\n",
    "- **Personal Reflection:** Reviewing and practicing binary sequence representation is imperative to accurately address larger quantities, ensuring precise calculations. I know how to convert binary to decimal (remainders) and decimal to binary, but I didn't consider combinations in binary. I will need to refresh that. \n",
    "\n",
    "Reviewing and practicing binary sequence representation is imperative to accurately address larger quantities, ensuring precise calculations. Underestimating the necessary number of bits was a pivotal mistake, limiting the representation and affecting the solution.\n",
    "\n",
    "\n",
    "## Execution Times of Program Versions:\n",
    "![q4.png](/Nighthawk-Pages/images/q4.png)\n",
    "\n",
    "- **Incorrect Answer:** Chose option C (\"Version II requires approximately 1 more minute to execute than version I\").\n",
    "- **Explanation:** Misjudged the number of times GetPrediction was called in both versions, resulting in an inaccurate estimation of execution time.\n",
    "- **Personal Reflection:** Paying my attention to logic and operations within code snippets is important,  especially when comparing execution times of different algorithms.\n",
    "Enhancing my attention to logic and operations within code snippets is crucial, especially when comparing execution times of different algorithms. Misjudging the number of times GetPrediction was called in both versions resulted in an inaccurate estimation of execution time.\n",
    " \n",
    "I need to revisit this concept. Careful analysis of network configurations is essential to identify potential redundancies between specified devices. Failure to recognize redundancy in both configurations highlighted a need for deeper comprehension of network structures.\n",
    "\n",
    "\n",
    "## Redundant Routing in Network Configurations:\n",
    "\n",
    "![q5.png](/Nighthawk-Pages/images/q5.png)\n",
    "- **Incorrect Answer:** Chose option A (\"Configuration I only\").\n",
    "- **Explanation:** Failed to recognize that both configurations could support redundant routing between devices Q and V.\n",
    "- **Personal Reflection:** Careful analysis of network configurations is essential to identify potential redundancies between specified devices.\n",
    "\n",
    "## Multiplication Procedure's Output:\n",
    "![q6.png](/Nighthawk-Pages/images/q6.png)\n",
    "\n",
    "- **Incorrect Answer:** Didn't select option D (\"The figure presents a line of code. Line 1: [begin block] Multiply [begin block] −2, −5 [end block] [end block]\").\n",
    "- **Explanation:** Forgot that there were 2 options to select! I rushed/\n",
    "- **Personal Reflection:** Don't rush/take time w/your problems.\n",
    "Understanding how initial values and loop conditions affect iterative procedures, especially with negative values, requires focused practice and comprehension. Overlooking the impact of a negative initial value for y resulted in an incorrect output. I should have made sure to check 2 outputs. \n",
    "\n",
    "\n",
    "\n",
    "\n",
    "Reflecting on these mistakes highlights the areas I need to focus on. Improving interpretation skills for different data representations, reinforcing core concepts, analyzing code or network structures meticulously, managining time wisely, and ensuring accuracy in calculations are crucial for my growth. I aim to practice similar problems and concepts thoroughly to excel in future assessments. I liked going trhough this exam because I learned a lot about code logic/analyzing collegeboard pseudocode.  It's not just about fixing our old mistakes but understanding the underlying concepts better, especially when it comes to terms, definitions.  I may need to revisit some concepts I didn't undertsand that well. These missteps/or mistakes can help me do better-my mistakes can lead me toward toward a deeper comprehension of the APCSP curicullum.  Acknowledging these errors has prompted me to adopt a more strategic approach to learning. I hope I will prove in the the furtue and I plan  to study/reflect more. These challenges haven't deterred my enthusiasm for mastering the subject. I recognize that learning involves making mistakes, and each misstep brings me closer to a more profound understanding.Moreover, this process of reflection has highlighted the importance of patience and persistence. It's not just about memorizing solutions but grasping the fundamental principles. Building a solid foundation in these core concepts will not only benefit my performance in exams but also prepare me for real-world applications of this knowledge.Moving forward, I plan to engage in more interactive learning methods, seek additional resources, and collaborate with peers to strengthen my grasp of CSP concepts. I'm eager to embrace these challenges as opportunities for growth and look forward to demonstrating a more comprehensive understanding in future assessments and the AP EXAM. \n",
    "\n",
    "\n"
   ]
  }
 ],
 "metadata": {
  "kernelspec": {
   "display_name": "Python 3",
   "language": "python",
   "name": "python3"
  },
  "language_info": {
   "name": "python",
   "version": "3.11.4"
  }
 },
 "nbformat": 4,
 "nbformat_minor": 2
}
