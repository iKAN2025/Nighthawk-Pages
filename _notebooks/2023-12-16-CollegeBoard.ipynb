{
 "cells": [
  {
   "cell_type": "markdown",
   "metadata": {},
   "source": [
    "---\n",
    "layout: post\n",
    "title: Collegeboard Reflection\n",
    "courses: {compsci: {week: 4}}\n",
    "type: tangibles\n",
    "---"
   ]
  },
  {
   "cell_type": "markdown",
   "metadata": {},
   "source": [
    "# Reflection on CSP Collegeboard Exam Questions\n",
    "\n",
    "![q2.png](/Nighthawk-Pages/images/score.png)\n",
    "During my recent CSP Collegeboard Exam, I encountered several questions that challenged my understanding and analytical skills. I stumbled on certain questions, leading to incorrect answers. Reviewing these mistakes is essential for my growth and improvement in understanding the subject matter. I got a 61/67.\n",
    "\n",
    "## File Size Distribution (Circle Graph):\n",
    "\n",
    "![q1.png](/Nighthawk-Pages/images/q1.png)\n",
    "- **Incorrect Answer:** Chose option A (\"Over 75% of the files stored are 1 MB in size or less\").\n",
    "- **Explanation:**My interpretation of the circle graph was flawed, leading to the miscalculation that files up to 1 MB constituted over 75%, while it actually comprised 66%. I limited myself too much on these options. \n",
    "- **Personal Reflection:** I realize the significance of accurately interpreting data representations like graphs. Improving my graph interpretation skills will be pivotal for future assessments.\n",
    "\n",
    "## Certificate Authority's Role:\n",
    "\n",
    "![q2.png](/Nighthawk-Pages/images/q2.png)\n",
    "\n",
    "- **Incorrect Answer:** Chose option A (\"A certificate authority certifies the safety of a particular Web site so that users know that it does not contain any viruses\").\n",
    "- **Explanation:** I misunderstood the role of a certificate authority, assuming it directly ensures website safety rather than focusing on authentication and encryption. I forgot about certifcate uthority from the previous team teaching. \n",
    "- **Personal Reflection:** Strengthening my understanding of cybersecurity concepts, especially regarding the functions of certificate authorities, is crucial for more accurate responses. I will have to review the Internet concept of Collegeboard.\n",
    "\n",
    "## Minimum Bits Required for Binary Sequences:\n",
    "\n",
    "![q3.png](/Nighthawk-Pages/images/q3.png)\n",
    "- **Incorrect Answer:** Chose option A (\"5\").\n",
    "- **Explanation:** Underestimated the necessary number of bits, limiting the representation to 32 staff members instead of the required 100.\n",
    "- **Personal Reflection:** Reviewing and practicing binary sequence representation is imperative to accurately address larger quantities, ensuring precise calculations. I know how to convert binary to decimal (remainders) and decimal to binary, but I didn't consider combinations in binary. I will need to refresh that. \n",
    "\n",
    "## Execution Times of Program Versions:\n",
    "![q2.png](/Nighthawk-Pages/images/q4.png)\n",
    "\n",
    "- **Incorrect Answer:** Chose option C (\"Version II requires approximately 1 more minute to execute than version I\").\n",
    "- **Explanation:** Misjudged the number of times GetPrediction was called in both versions, resulting in an inaccurate estimation of execution time.\n",
    "- **Personal Reflection:** Paying my attention to logic and operations within code snippets is crucial, especially when comparing execution times of different algorithms.\n",
    "\n",
    "## Redundant Routing in Network Configurations:\n",
    "![q2.png](/Nighthawk-Pages/images/q5.png)\n",
    "\n",
    "- **Incorrect Answer:** Chose option A (\"Configuration I only\").\n",
    "- **Explanation:** Failed to recognize that both configurations could support redundant routing between devices Q and V.\n",
    "- **Personal Reflection:** Careful analysis of network configurations is essential to identify potential redundancies between specified devices.\n",
    "\n",
    "## Multiplication Procedure's Output:\n",
    "![q2.png](/Nighthawk-Pages/images/q6.png)\n",
    "\n",
    "- **Incorrect Answer:** Didn't select option D (\"The figure presents a line of code. Line 1: [begin block] Multiply [begin block] −2, −5 [end block] [end block]\").\n",
    "- **Explanation:** Forgot that there were 2 options to select! I rushed/\n",
    "- **Personal Reflection:** Don't rush/take time w/your problems.\n",
    "\n",
    "Reflecting on these mistakes highlights the areas I need to focus on. Improving interpretation skills for different data representations, reinforcing core concepts, analyzing code or network structures meticulously, managining time wisely, and ensuring accuracy in calculations are crucial for my growth. I aim to practice similar problems and concepts thoroughly to excel in future assessments.\n",
    "\n",
    "\n"
   ]
  }
 ],
 "metadata": {
  "kernelspec": {
   "display_name": "Python 3",
   "language": "python",
   "name": "python3"
  },
  "language_info": {
   "name": "python",
   "version": "3.11.4"
  }
 },
 "nbformat": 4,
 "nbformat_minor": 2
}
