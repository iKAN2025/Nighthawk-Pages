{
 "cells": [
  {
   "cell_type": "markdown",
   "metadata": {},
   "source": [
    "---\n",
    "layout: base\n",
    "title: 5.5 Legal/Ethical Concerns\n",
    "description: Legal/Ethical Concerns\n",
    "courses: {compsci: {week: 4}}\n",
    "type: hacks\n",
    "---"
   ]
  },
  {
   "cell_type": "markdown",
   "metadata": {},
   "source": [
    "## Introduction\n",
    "\n",
    "As the landscape of intellectual property and technology continues to grow and evolve, it's becoming increasingly fundamentally important to understand digital licensing, fair usage, and access for both legal and generally ethical reasons.\n",
    "\n",
    "In this Team Teach, we'll explore those principles and their significance in relation to technological innovation and creativity."
   ]
  },
  {
   "cell_type": "markdown",
   "metadata": {},
   "source": [
    "## Intellectual Property (IP)\n",
    "\n",
    "- **Intellectual Property (IP):** a creative idea or invention that is intellectually sourced from the mind\n",
    "    - Ex: literary + generally artistic works, designs, symbols, names, images, etc.\n",
    "    - The individual who came up with the idea has rights to it\n",
    "- Concerns rise with ownership because of more and more things being digitized\n",
    "    - --> Relation to the computer science field\n",
    "        - Programs, applications/software…\n",
    "    - Whether or not one is allowed to use these creations\n",
    "        - There is widespread access to said creations, meaning that they can easily be saved and accessed and distributed very quickly\n",
    "\n",
    "<img src=\"https://github.com/tuckergol/student2/blob/main/images/IP%20Diagram.png?raw=true\">\n",
    "\n",
    "- **Trademark:** certifies distinction or recognizability\n",
    "    - Through USPTO (U.S. gov. agency): [uspto.gov/trademarks/apply](https://www.uspto.gov/trademarks/apply)\n",
    "- **Trade Secret:** IP law gives the owner of a trade secret the right to restrict others from disclosing it\n",
    "    - Economic value; competitive advantage\n",
    "- **Patent:** gives its IP owner the right to prevent others from making/using/selling a creation"
   ]
  },
  {
   "cell_type": "markdown",
   "metadata": {},
   "source": [
    "## Copyright\n",
    "\n",
    "- Creating anything allows the individual who created it the right to an **All Rights Reserved Copyright**\n",
    "    - Copyright is a law which protects and Intellectual Property\n",
    "        - Protects Intellectual Property, preventing anyone from using it without the permission of the individual who created it\n",
    "- Violating this is considered plagiarism, an offense of Copyright\n",
    "    - Violation may cause legal consequences depending on severity\n",
    "        - Ex: fine, potential imprisonment…\n",
    "- Legal ways to use material created by someone else:\n",
    "    - Creative Commons Licensing\n",
    "    - Open Source\n",
    "    - Open Access\n",
    "\n",
    "## Creative Commons\n",
    "\n",
    "- Provides free licensing that you can use to tell others how you want them to use your creations (IP)\n",
    "    - Through: [creativecommons.org](https://creativecommons.org/)\n",
    "- States what can and can’t be done with your IP\n",
    "\n",
    "Examples:\n",
    "\n",
    "<img src=\"https://github.com/tuckergol/student2/blob/main/images/Copyright%20Examples.png?raw=true\">"
   ]
  },
  {
   "cell_type": "markdown",
   "metadata": {},
   "source": [
    "## Popcorn Hack #1\n",
    "\n",
    "What is the primary purpose of Copyright law, and how does it protect Intellectual Property? Provide a brief explanation of the key rights granted to creators under Copyright.\n",
    "\n",
    "\n",
    "The primary purpose of copyright law is to protect the intellectual property rights of creators by granting them exclusive rights to their original works. Copyright law aims to encourage creativity and innovation by providing creators with the legal framework to control how their works are used and distributed. Ownership/distribution rights. "
   ]
  },
  {
   "cell_type": "markdown",
   "metadata": {},
   "source": [
    "## Open Source\n",
    "- **Open Source:** programs made freely available for anyone to use, redistribute, and modify\n",
    "    - Encourage open collaboration and modification/use of the creation\n",
    "- Open Source software typically comes with a license that determines how it can be used\n",
    "    - For example, the MIT License, one of the most common Open Source licenses, states that the authors of the open source software in question are not liable for any issues caused by the software\n",
    "\n",
    "Other examples:\n",
    "- The Linux kernel\n",
    "- The Chromium browser engine\n",
    "- The WebRTC Protocol\n",
    "\n",
    "## Open Access\n",
    "- Open Access: online research output devoid of restrictions on access or use\n",
    "- Research pertaining to cybersecurity is typically open access\n",
    "- Open Access aids in the advancement of science\n",
    "    - Benefits public research capability; articles in Open Access journals are freely available online, maximizing their visibility and encouraging widespread engagement\n",
    "\n",
    "It’s important to remember that you should always cite sources and give credit where it belongs."
   ]
  },
  {
   "cell_type": "markdown",
   "metadata": {},
   "source": [
    "## Popcorn Hack #2\n",
    "\n",
    "What are the main advantages of Open Source software? How does it foster collaboration in the development community?\n",
    "\n",
    "Open Source software promotes an environment of openness, collaboration, innovation, and shared knowledge within the development community, leading to the creation of high-quality software that benefits users worldwide. articipation in Open Source projects allows developers to learn from others' code, contribute their expertise, and improve their skills. It fosters a culture of learning and knowledge-sharing within the development community."
   ]
  },
  {
   "cell_type": "markdown",
   "metadata": {},
   "source": [
    "## Legal & Ethical Concerns\n",
    "\n",
    "- Broad access to creations because of Open Source/Access + Creative Commons\n",
    "    - Free and encouraged use + modification of creations occasionally invites some to use them to harm others, raising Legal and Ethical Concerns\n",
    "        - Potential legal consequences\n",
    "            - Examples…\n",
    "                - Pirating\n",
    "                    - Video games\n",
    "                    - Illegal online movie streaming services\n",
    "                - Computers that monitor individuals and collect data\n",
    "- Connects → Digital Divide\n",
    "    - Even with broader accessibility, not everyone will be able to access creations due to other factors from the Digital Divide\n",
    "        - Ex: location, race, age, etc.\n",
    "\n",
    "<img src=\"https://github.com/tuckergol/student2/blob/main/images/Legal%20and%20Ethical%20Diagram.png?raw=true\">"
   ]
  },
  {
   "cell_type": "markdown",
   "metadata": {},
   "source": [
    "## Homework Hack\n",
    "\n",
    "#### [Google Form (Quiz)](https://docs.google.com/forms/d/e/1FAIpQLSdbVlNG-KRIOsdhpqm9DBcdtxqDefy9GF1qi4kdIWgvH8bbbg/viewform?usp=sf_link)\n",
    "\n",
    "Don't forget to document what you learned through utterances on this file on your blog.\n",
    "\n",
    "# Review Ticket: What I Learned - Legal & Ethical Concerns in Technology\n",
    "\n",
    "## Summary of Key Concepts\n",
    "\n",
    "In the module on Legal & Ethical Concerns in Technology, I gained an in-depth understanding of intellectual property (IP), copyright laws, Creative Commons, open-source software, and open access in the context of technology and innovation. This module highlighted the significance of these principles in regulating digital licensing, fair usage, and accessibility, both legally and ethically.\n",
    "\n",
    "## Key Takeaways\n",
    "\n",
    "1. **Intellectual Property (IP):** IP encompasses creative ideas or inventions sourced from the mind, ranging from literary works to designs and software. Ownership rights are granted to the individual who creates such content.\n",
    "\n",
    "2. **Copyright Laws:** Copyright laws protect creators' intellectual property rights, allowing them exclusive control over the distribution and usage of their original works. Violations can lead to legal consequences.\n",
    "\n",
    "3. **Creative Commons & Open Source:** Creative Commons licensing enables creators to define the terms of use for their IP, while open-source software promotes collaboration and modification of programs, encouraging knowledge-sharing within the development community.\n",
    "\n",
    "4. **Open Access:** Open access to research output fosters scientific advancement by ensuring unrestricted availability of research materials, benefiting public research capabilities.\n",
    "\n",
    "5. **Ethical Concerns:** While open access and open-source initiatives promote wider accessibility, they raise ethical concerns regarding potential misuse, such as pirating, and highlight limitations like the digital divide.\n",
    "\n",
    "\n",
    "\n",
    "## Reflection\n",
    "\n",
    "This module deepened my appreciation for the intricacies of intellectual property laws and the ethical considerations in technological innovation. Understanding the rights and responsibilities associated with creating and using intellectual property is crucial in today's digital landscape.\n",
    "\n",
    "Moreover, I recognize the importance of ethical practices in utilizing open-source materials and the significance of equal access to technological resources, despite the challenges posed by the digital divide.\n",
    "\n",
    "## Action Plan\n",
    "\n",
    "- Document my understanding of IP, copyright, and open-source principles in a blog post.\n",
    "- Explore case studies to further comprehend ethical considerations in technology.\n",
    "- Engage in discussions with peers to gain diverse perspectives on IP and ethical concerns in technology.\n",
    "\n",
    "By focusing on these key takeaways, I aim to strengthen my knowledge and contribute positively to the ethical utilization of technology and intellectual property.\n",
    "\n",
    "\n",
    "The licecense we are uing forour project  is the Apache Licesne/ \n",
    "\n"
   ]
  }
 ],
 "metadata": {
  "kernelspec": {
   "display_name": "Python 3",
   "language": "python",
   "name": "python3"
  },
  "language_info": {
   "name": "python",
   "version": "3.11.4"
  },
  "orig_nbformat": 4
 },
 "nbformat": 4,
 "nbformat_minor": 2
}
