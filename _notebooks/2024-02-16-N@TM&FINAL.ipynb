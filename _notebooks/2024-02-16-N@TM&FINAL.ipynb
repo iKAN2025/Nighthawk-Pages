{
 "cells": [
  {
   "cell_type": "markdown",
   "metadata": {},
   "source": [
    "---\n",
    "layout: base\n",
    "title: N@TM Final\n",
    "type: tangibles\n",
    "courses: { compsci: {week: 12} }\n",
    "---"
   ]
  },
  {
   "cell_type": "markdown",
   "metadata": {},
   "source": [
    "# What I  Did\n",
    "I worked on a variety of aspects with my team for the CPT Project: Login/Register features, JWT Token implementation(with Justin), Exercise/Sleep Tracking, and  creating Ascii Profiles for users (with Vibha). Exercise/Sleep, however, were my main features. I create exercise and sleep as columns in my database, then used crud operations to GET/UPDATE information. First I would leave both features as null, then keep updating. Then I would fetch the old data, if there was any, and append it to array of nested JSON. I also needed the JSON response from the login to update to the correct user id and name. I also used a script source to make graphs on my code based on data from the database for each user(which I had to extract from nested json).\n"
   ]
  },
  {
   "cell_type": "markdown",
   "metadata": {},
   "source": [
    "# N@TM\n",
    "Our team's idea for the CPT project was to make a fitness tracker. Fitness trackers are widely used in the real world, making them a relevant choice for our project. I was especially interested in the data handling for each user, since\n",
    "fitness trackers generate and manage a significant amount of data (hence the name tracker ) Handling this data efficiently, implementing data structures, and using  databases align with the College Board's emphasis on data management in computer science projects.  Our plans for making the CPT project are linked here, where we created a Canva and DB Model for our project.  \n",
    "\n",
    "\n",
    "\n",
    "[Review Ticket for Passion Project](https://ikan2025.github.io/Nighthawk-Pages//2023/11/17/2023-Review.html)\n",
    "\n",
    "[Review Ticket for Checkpoint A, (Planning Stage)](https://jplip.github.io/frontTri2/CA_CheckpointA.html)\n",
    "\n",
    "[Timeline Created During Planning Stage](https://github.com/users/iKAN2025/projects/2/views/1)\n",
    "\n",
    "# How I implemented the requirements from CPT into our project\n",
    "\n",
    "\n",
    "\n",
    "\n",
    "\n",
    "\n",
    "| Collegeboard Requirements                                              | Me                                                                                                 |\n",
    "|------------------------------------------------------------------------|----------------------------------------------------------------------------------------------------|\n",
    "| Instructions for input from one of the following: the user, a device, an online data stream, a file. | Our Project takes in an input for a form, converts it to JSON, and sends it to the backend.           |\n",
    "| Use of at least one list (or other collection type) to represent a collection of data that is stored and used to manage program complexity and help fulfill the user's purpose. | JSON is a collection of data that is stored to track user exercise and sleeping. It is used to manage program complexity and help fulfill the program’s purpose of tracking user exercise and sleeping. |\n",
    "| At least one procedure that contributed to the program's intended purpose where you have defined: the name, return type, one or more parameters. | This procedure has a name (`put`), a return (`response`), and parameters (`self`, `id`).  ![Photo](/Nighthawk-Pages/images/put.png)           |\n",
    "| Calls to your student-developed procedure.                             | I called to this procedure in my fetch code on `exercise.md` and `tracking.md`.                       |\n",
    "| Instructions for output (tactile, audible, visual, or other) based on input and program functionality. | The code for this is in `graphs.html`, where the code mapped out the data from sleep duration and dates, making a graph out of it using an outside script source. |\n",
    "| Implementation of built-in or existing procedures or language structures, such as event handlers or main methods, are not considered student-developed. An algorithm that includes sequencing, selection, and iteration that is in the body of the selected procedure. Calls to your student-developed procedure/ Instructions for output (tactile, audible, visual, or textual) based on input. | A great example of this is when I used Javascript Promise Structure to get data from my form and update the backend. I also had to use an event listener. There are other ways to do this, such as `<form action=\"your_action_url\" method=\"POST\">`. However, I had to make sure the data was formatted a specific way (according to the requirements outlined in `model.py`, which was my teacher's code) and the Javascript Promise structure was more easy for me to work with because I had to update \"all the data\" (according to the `def update` in backend, so I had to resend the data back.) I also did this in my last full stack project in the first trimester. |\n",
    "\n",
    "\n",
    "\n",
    "\n",
    "\n",
    "\n",
    "\n",
    "# Component B: Video\n",
    "\n",
    "(Link in Issue)\n",
    "\n",
    "| Collegboard Requirements | My Video |\n",
    "|------------------|------------------|\n",
    "| Input to program  | Seen in video, entering form for tracking data  |\n",
    "| At least one aspect of the functionality of your program| The graphs produced based on user data  |\n",
    "| Output produced by program:  | Data saved, graph produced based on data for exercise/sleep  |\n",
    "| My video does not have: | any distinguishing information and voice narration  |\n",
    "| My video is | a .mp3, less than 1 minute in length, less than 30MB in file size.  |\n",
    "\n",
    "\n",
    "\n",
    "\n",
    "\n",
    "\n",
    "\n",
    "\n",
    "\n",
    "\n",
    "# Commits that show work I did\n",
    "- [Sleep Graphs](https://github.com/jplip/frontTri2/commit/6c1c30a2330c8793d51d8a171ede4a5e85f27c96) This was when I had trouble mapping out the data from sleep duration and dates and making a graph out of it using and outside script source, There were some minor errors I had to fix, but this is when I finally fixed the issue. \n",
    "- [Sleep Tracker Frontend Code](https://github.com/jplip/frontTri2/commit/6e6349fe8d5ed1c1148da5e457e118a6086c987e) This is when I reused sleep tracker code for frontend for exercise tracker code. \n",
    "- [CRUD Operations](https://github.com/jplip/fitness-back/commit/89c160e6fcde12c8d859f1a9e792d670990b21aa) This commit was a backend CRUD fix for updated sleep/exercise properly. I also added a patch function to update name. I also had to update this in users.py (model)\n",
    "\n",
    "# Merge\n",
    "\n",
    "[Fix Back JWT](https://github.com/jplip/fitness-back/commit/00fd4f126e2863d64cec4affdde220e6709cbe64)\n",
    "\n",
    "[EDIT CRUD FIX](https://github.com/jplip/fitness-back/commit/302682bb2dce28eadf1326c8e0eb6397c1b96fa2)\n",
    "\n",
    "\n"
   ]
  }
 ],
 "metadata": {
  "kernelspec": {
   "display_name": "Python 3",
   "language": "python",
   "name": "python3"
  },
  "language_info": {
   "name": "python",
   "version": "3.11.4"
  }
 },
 "nbformat": 4,
 "nbformat_minor": 2
}
